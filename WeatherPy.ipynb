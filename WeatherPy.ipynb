{
 "cells": [
  {
   "cell_type": "markdown",
   "id": "57c3fff7",
   "metadata": {},
   "source": [
    "# Module 6"
   ]
  },
  {
   "cell_type": "markdown",
   "id": "39419561",
   "metadata": {},
   "source": [
    "## Step 1: Import our dependencies and initialize counters and an empty list that will hold the weather data."
   ]
  },
  {
   "cell_type": "code",
   "execution_count": 1,
   "id": "c7b6fe8c",
   "metadata": {},
   "outputs": [],
   "source": [
    "# Import the dependencies.\n",
    "import pandas as pd\n",
    "import matplotlib.pyplot as plt\n",
    "import numpy as np"
   ]
  },
  {
   "cell_type": "code",
   "execution_count": 2,
   "id": "9c268787",
   "metadata": {},
   "outputs": [
    {
     "data": {
      "text/plain": [
       "<zip at 0x2722dc49ac8>"
      ]
     },
     "execution_count": 2,
     "metadata": {},
     "output_type": "execute_result"
    }
   ],
   "source": [
    "# Create a set of random latitude and longitude combinations.\n",
    "lats = np.random.uniform(low=-90.000, high=90.000, size=1500)\n",
    "lngs = np.random.uniform(low=-180.000, high=180.000, size=1500)\n",
    "lat_lngs = zip(lats, lngs)\n",
    "lat_lngs"
   ]
  },
  {
   "cell_type": "code",
   "execution_count": 5,
   "id": "ef4cbeee",
   "metadata": {},
   "outputs": [],
   "source": [
    "# Add the latitudes and longitudes to a list.\n",
    "coordinates = list(lat_lngs)"
   ]
  },
  {
   "cell_type": "code",
   "execution_count": 6,
   "id": "47dd48e9",
   "metadata": {},
   "outputs": [],
   "source": [
    "# Use the citipy module to determine city based on latitude and longitude.\n",
    "from citipy import citipy"
   ]
  },
  {
   "cell_type": "markdown",
   "id": "e0c21cd3",
   "metadata": {},
   "source": [
    "## Step 2: Loop through the cities list."
   ]
  },
  {
   "cell_type": "code",
   "execution_count": 7,
   "id": "c0681747",
   "metadata": {},
   "outputs": [
    {
     "data": {
      "text/plain": [
       "602"
      ]
     },
     "execution_count": 7,
     "metadata": {},
     "output_type": "execute_result"
    }
   ],
   "source": [
    "# Create a list for holding the cities.\n",
    "cities = []\n",
    "# Identify the nearest city for each latitude and longitude combination.\n",
    "for coordinate in coordinates:\n",
    "    city = citipy.nearest_city(coordinate[0], coordinate[1]).city_name\n",
    "\n",
    "    # If the city is unique, then we will add it to the cities list.\n",
    "    if city not in cities:\n",
    "        cities.append(city)\n",
    "# Print the city count to confirm sufficient count.\n",
    "len(cities)"
   ]
  },
  {
   "cell_type": "markdown",
   "id": "784d16f0",
   "metadata": {},
   "source": [
    "## Step 3: Group the cities in sets of 50 to log the process as we find the weather data for each city. Two counters will be needed here: one to log the city count from 1 to 50, and another for the sets."
   ]
  },
  {
   "cell_type": "markdown",
   "id": "9f460909",
   "metadata": {},
   "source": [
    "## Step 4: Build the city_url or endpoint for each city."
   ]
  },
  {
   "cell_type": "markdown",
   "id": "0875371b",
   "metadata": {},
   "source": [
    "## Step 5: Log the URL and the record and set numbers."
   ]
  },
  {
   "cell_type": "markdown",
   "id": "777bdc63",
   "metadata": {},
   "source": [
    "## Step 6: Make an API request for each city."
   ]
  },
  {
   "cell_type": "markdown",
   "id": "63a82ac7",
   "metadata": {},
   "source": [
    "## Step 7: Parse the JSON weather data for the following:\n",
    "City, country, and date\n",
    "Latitude and longitude\n",
    "Maximum temperature\n",
    "Humidity\n",
    "Cloudiness\n",
    "Wind speed"
   ]
  },
  {
   "cell_type": "markdown",
   "id": "ad27c057",
   "metadata": {},
   "source": [
    "## Step 8: Add the data to a list in a dictionary format and then convert the list to a DataFrame."
   ]
  },
  {
   "cell_type": "code",
   "execution_count": null,
   "id": "09055464",
   "metadata": {},
   "outputs": [],
   "source": []
  }
 ],
 "metadata": {
  "kernelspec": {
   "display_name": "PythonData",
   "language": "python",
   "name": "pythondata"
  },
  "language_info": {
   "codemirror_mode": {
    "name": "ipython",
    "version": 3
   },
   "file_extension": ".py",
   "mimetype": "text/x-python",
   "name": "python",
   "nbconvert_exporter": "python",
   "pygments_lexer": "ipython3",
   "version": "3.7.10"
  }
 },
 "nbformat": 4,
 "nbformat_minor": 5
}
